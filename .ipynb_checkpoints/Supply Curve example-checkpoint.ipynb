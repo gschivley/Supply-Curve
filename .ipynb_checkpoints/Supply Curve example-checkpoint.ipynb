{
 "cells": [
  {
   "cell_type": "markdown",
   "metadata": {},
   "source": [
    "# Supply curve figure of petroleum resources\n",
    "\n",
    "Sources I used for parts of this, and other things that might be helpful:\n",
    "- [Patches to make a histogram](http://matplotlib.org/examples/api/histogram_path_demo.html)\n",
    "- [Text properties and layout](http://matplotlib.org/users/text_props.html)\n",
    "- [Add text with arrow line pointing somewhere (annotate)](http://matplotlib.org/api/pyplot_api.html#matplotlib.pyplot.annotate) (you can probably get rid of the arrow head for just a line)\n",
    "\n",
    "I had trouble finding a default color set with 11 colors. Eventually discovered [Palettable](https://jiffyclub.github.io/palettable/#), and am using *Paired_11*"
   ]
  },
  {
   "cell_type": "code",
   "execution_count": 1,
   "metadata": {
    "collapsed": true
   },
   "outputs": [],
   "source": [
    "import warnings\n",
    "warnings.filterwarnings('ignore')\n",
    "%matplotlib inline\n",
    "import pandas as pd\n",
    "import numpy as np\n",
    "import seaborn as sns\n",
    "import matplotlib.pyplot as plt\n",
    "import matplotlib.patches as patches\n",
    "import matplotlib.path as path\n",
    "from palettable.colorbrewer.qualitative import Paired_11"
   ]
  },
  {
   "cell_type": "markdown",
   "metadata": {},
   "source": [
    "## Read data\n",
    "Data is from:\n",
    "\n",
    "McGlade, C & Ekins, P. The geographical distribution of fossil fuels unused when limiting global warming to 2 °C. *Nature* **517**, 187–190. (2015) doi:10.1038/nature14016\n",
    "\n",
    "I'm using data from [Figure 1a](http://www.nature.com/nature/journal/v517/n7533/fig_tab/nature14016_F1.html)."
   ]
  },
  {
   "cell_type": "code",
   "execution_count": 6,
   "metadata": {
    "collapsed": true
   },
   "outputs": [],
   "source": [
    "fn = 'nature14016-f1.xlsx'\n",
    "sn = 'Oil data'"
   ]
  },
  {
   "cell_type": "code",
   "execution_count": 7,
   "metadata": {
    "collapsed": false
   },
   "outputs": [],
   "source": [
    "df = pd.read_excel(fn, sn)"
   ]
  },
  {
   "cell_type": "markdown",
   "metadata": {},
   "source": [
    "Fortuntely the *Cost* values are already sorted in ascending order. Cost will be on the y-axis, and cumulative recoverable resources will be on the x-axis."
   ]
  },
  {
   "cell_type": "code",
   "execution_count": 8,
   "metadata": {
    "collapsed": false
   },
   "outputs": [
    {
     "data": {
      "text/html": [
       "<div>\n",
       "<table border=\"1\" class=\"dataframe\">\n",
       "  <thead>\n",
       "    <tr style=\"text-align: right;\">\n",
       "      <th></th>\n",
       "      <th>Resource</th>\n",
       "      <th>Quantity (Gb)</th>\n",
       "      <th>Cost (2010$/bbl)</th>\n",
       "    </tr>\n",
       "  </thead>\n",
       "  <tbody>\n",
       "    <tr>\n",
       "      <th>0</th>\n",
       "      <td>Conventional 2P reserves in production or sche...</td>\n",
       "      <td>219.191</td>\n",
       "      <td>11.730</td>\n",
       "    </tr>\n",
       "    <tr>\n",
       "      <th>1</th>\n",
       "      <td>NGL</td>\n",
       "      <td>46.493</td>\n",
       "      <td>11.731</td>\n",
       "    </tr>\n",
       "    <tr>\n",
       "      <th>2</th>\n",
       "      <td>Conventional 2P reserves in production or sche...</td>\n",
       "      <td>4.599</td>\n",
       "      <td>12.602</td>\n",
       "    </tr>\n",
       "    <tr>\n",
       "      <th>3</th>\n",
       "      <td>NGL</td>\n",
       "      <td>1.345</td>\n",
       "      <td>12.603</td>\n",
       "    </tr>\n",
       "    <tr>\n",
       "      <th>4</th>\n",
       "      <td>Conventional 2P reserves in production or sche...</td>\n",
       "      <td>131.514</td>\n",
       "      <td>14.304</td>\n",
       "    </tr>\n",
       "  </tbody>\n",
       "</table>\n",
       "</div>"
      ],
      "text/plain": [
       "                                            Resource  Quantity (Gb)  \\\n",
       "0  Conventional 2P reserves in production or sche...        219.191   \n",
       "1                                                NGL         46.493   \n",
       "2  Conventional 2P reserves in production or sche...          4.599   \n",
       "3                                                NGL          1.345   \n",
       "4  Conventional 2P reserves in production or sche...        131.514   \n",
       "\n",
       "   Cost (2010$/bbl)  \n",
       "0            11.730  \n",
       "1            11.731  \n",
       "2            12.602  \n",
       "3            12.603  \n",
       "4            14.304  "
      ]
     },
     "execution_count": 8,
     "metadata": {},
     "output_type": "execute_result"
    }
   ],
   "source": [
    "df.head()"
   ]
  },
  {
   "cell_type": "code",
   "execution_count": 9,
   "metadata": {
    "collapsed": false
   },
   "outputs": [
    {
     "data": {
      "text/html": [
       "<div>\n",
       "<table border=\"1\" class=\"dataframe\">\n",
       "  <thead>\n",
       "    <tr style=\"text-align: right;\">\n",
       "      <th></th>\n",
       "      <th>Resource</th>\n",
       "      <th>Quantity (Gb)</th>\n",
       "      <th>Cost (2010$/bbl)</th>\n",
       "    </tr>\n",
       "  </thead>\n",
       "  <tbody>\n",
       "    <tr>\n",
       "      <th>322</th>\n",
       "      <td>In situ kerogen oil</td>\n",
       "      <td>23.538</td>\n",
       "      <td>98.038</td>\n",
       "    </tr>\n",
       "    <tr>\n",
       "      <th>323</th>\n",
       "      <td>Undiscovered</td>\n",
       "      <td>0.173</td>\n",
       "      <td>99.030</td>\n",
       "    </tr>\n",
       "    <tr>\n",
       "      <th>324</th>\n",
       "      <td>NGL</td>\n",
       "      <td>0.040</td>\n",
       "      <td>99.031</td>\n",
       "    </tr>\n",
       "    <tr>\n",
       "      <th>325</th>\n",
       "      <td>Arctic</td>\n",
       "      <td>13.175</td>\n",
       "      <td>108.030</td>\n",
       "    </tr>\n",
       "    <tr>\n",
       "      <th>326</th>\n",
       "      <td>NGL</td>\n",
       "      <td>6.896</td>\n",
       "      <td>108.031</td>\n",
       "    </tr>\n",
       "  </tbody>\n",
       "</table>\n",
       "</div>"
      ],
      "text/plain": [
       "                Resource  Quantity (Gb)  Cost (2010$/bbl)\n",
       "322  In situ kerogen oil         23.538            98.038\n",
       "323         Undiscovered          0.173            99.030\n",
       "324                  NGL          0.040            99.031\n",
       "325               Arctic         13.175           108.030\n",
       "326                  NGL          6.896           108.031"
      ]
     },
     "execution_count": 9,
     "metadata": {},
     "output_type": "execute_result"
    }
   ],
   "source": [
    "df.tail()"
   ]
  },
  {
   "cell_type": "markdown",
   "metadata": {},
   "source": [
    "#### Create arrays of values with easy to type names"
   ]
  },
  {
   "cell_type": "code",
   "execution_count": 80,
   "metadata": {
    "collapsed": true
   },
   "outputs": [],
   "source": [
    "names = df['Resource'].values\n",
    "amount = df['Quantity (Gb)'].values\n",
    "cost = df['Cost (2010$/bbl)'].values"
   ]
  },
  {
   "cell_type": "markdown",
   "metadata": {},
   "source": [
    "#### Create a set of names to use for assigning colors and creating the legend\n",
    "\n",
    "I'm not being picky about the order of colors."
   ]
  },
  {
   "cell_type": "code",
   "execution_count": 81,
   "metadata": {
    "collapsed": false
   },
   "outputs": [
    {
     "data": {
      "text/plain": [
       "{u'Arctic',\n",
       " u'Conventional 2P reserves in production or scheduled',\n",
       " u'Extra-heavy',\n",
       " u'In situ kerogen oil',\n",
       " u'In situ natural bitumen',\n",
       " u'LTO',\n",
       " u'Mined kerogen oil',\n",
       " u'Mined natural bitumen',\n",
       " u'NGL',\n",
       " u'Reserve Growth',\n",
       " u'Undiscovered'}"
      ]
     },
     "execution_count": 81,
     "metadata": {},
     "output_type": "execute_result"
    }
   ],
   "source": [
    "name_set = set(names)\n",
    "name_set"
   ]
  },
  {
   "cell_type": "code",
   "execution_count": 82,
   "metadata": {
    "collapsed": false
   },
   "outputs": [],
   "source": [
    "color_dict = {}\n",
    "\n",
    "for i, area in enumerate(name_set): \n",
    "    color_dict[area] = i #Assigning index position as value to resource name keys"
   ]
  },
  {
   "cell_type": "code",
   "execution_count": 83,
   "metadata": {
    "collapsed": false
   },
   "outputs": [
    {
     "data": {
      "text/plain": [
       "{u'Arctic': 3,\n",
       " u'Conventional 2P reserves in production or scheduled': 7,\n",
       " u'Extra-heavy': 4,\n",
       " u'In situ kerogen oil': 0,\n",
       " u'In situ natural bitumen': 5,\n",
       " u'LTO': 9,\n",
       " u'Mined kerogen oil': 8,\n",
       " u'Mined natural bitumen': 10,\n",
       " u'NGL': 2,\n",
       " u'Reserve Growth': 6,\n",
       " u'Undiscovered': 1}"
      ]
     },
     "execution_count": 83,
     "metadata": {},
     "output_type": "execute_result"
    }
   ],
   "source": [
    "color_dict"
   ]
  },
  {
   "cell_type": "code",
   "execution_count": 53,
   "metadata": {
    "collapsed": false
   },
   "outputs": [
    {
     "data": {
      "image/png": "[encoded data removed]",
      "text/plain": [
       "<matplotlib.figure.Figure at 0x116e36f90>"
      ]
     },
     "metadata": {},
     "output_type": "display_data"
    }
   ],
   "source": [
    "sns.palplot(Paired_11.mpl_colors)"
   ]
  },
  {
   "cell_type": "markdown",
   "metadata": {
    "collapsed": true
   },
   "source": [
    "#### Define a function that returns the integer color choice based on the region name\n",
    "\n",
    "Use the function color_match to create an array (technically a Pandas Series object) with rgb colors that will be used for each box in the figure. Do this using the map operation, which applies a function to each element in a Pandas Series."
   ]
  },
  {
   "cell_type": "code",
   "execution_count": 119,
   "metadata": {
    "collapsed": true
   },
   "outputs": [],
   "source": [
    "def color_match(name):\n",
    "    return Paired_11.mpl_colors[color_dict[name]]"
   ]
  },
  {
   "cell_type": "code",
   "execution_count": 102,
   "metadata": {
    "collapsed": true
   },
   "outputs": [],
   "source": [
    "def color_match(name):\n",
    "    return sns.husl_palette(n_colors=11, h=0.1, s=0.9, l=0.6)[color_dict[name]]"
   ]
  },
  {
   "cell_type": "code",
   "execution_count": 143,
   "metadata": {
    "collapsed": false
   },
   "outputs": [
    {
     "data": {
      "text/plain": [
       "(0.6980392156862745, 0.8745098039215686, 0.5411764705882353)"
      ]
     },
     "execution_count": 143,
     "metadata": {},
     "output_type": "execute_result"
    }
   ],
   "source": [
    "color_match('NGL')"
   ]
  },
  {
   "cell_type": "code",
   "execution_count": 120,
   "metadata": {
    "collapsed": true
   },
   "outputs": [],
   "source": [
    "color = df['Resource'].map(color_match)"
   ]
  },
  {
   "cell_type": "markdown",
   "metadata": {},
   "source": [
    "### Define the edges of the *patch* objects that will be drawn on the plot"
   ]
  },
  {
   "cell_type": "code",
   "execution_count": 87,
   "metadata": {
    "collapsed": false
   },
   "outputs": [],
   "source": [
    "# get the corners of the rectangles for the histogram\n",
    "left = np.cumsum(np.insert(amount, 0, 0))\n",
    "right = np.cumsum(np.append(amount, .01))\n",
    "bottom = np.zeros(len(left))\n",
    "top = np.append(cost, 0)"
   ]
  },
  {
   "cell_type": "markdown",
   "metadata": {},
   "source": [
    "## Make the figure"
   ]
  },
  {
   "cell_type": "code",
   "execution_count": 142,
   "metadata": {
    "collapsed": false
   },
   "outputs": [
    {
     "data": {
      "text/plain": [
       "<matplotlib.legend.Legend at 0x117553210>"
      ]
     },
     "execution_count": 142,
     "metadata": {},
     "output_type": "execute_result"
    },
    {
     "data": {
      "image/png": "[encoded data removed]",
      "text/plain": [
       "<matplotlib.figure.Figure at 0x11c494a90>"
      ]
     },
     "metadata": {},
     "output_type": "display_data"
    }
   ],
   "source": [
    "sns.set_style('whitegrid')\n",
    "fig, ax = plt.subplots(figsize=(10,5))\n",
    "\n",
    "# we need a (numrects x numsides x 2) numpy array for the path helper\n",
    "# function to build a compound path\n",
    "for i, name in enumerate(names):\n",
    "    XY = np.array([[left[i:i+1], left[i:i+1], right[i:i+1], right[i:i+1]], \n",
    "                      [bottom[i:i+1], top[i:i+1], top[i:i+1], bottom[i:i+1]]]).T\n",
    "\n",
    "    # get the Path object\n",
    "    barpath = path.Path.make_compound_path_from_polys(XY)\n",
    "\n",
    "    # make a patch out of it (a patch is the shape drawn on the plot)\n",
    "    patch = patches.PathPatch(barpath, facecolor=color[i], ec='0.8')\n",
    "    ax.add_patch(patch)\n",
    "    \n",
    "#Create patch elements for a custom legend\n",
    "#The legend function expects multiple patch elements as a list\n",
    "patch = []\n",
    "for i in color_dict:\n",
    "    patch.append(patches.Patch(color=Paired_11.mpl_colors[color_dict[i]], \n",
    "                                label=i))\n",
    "\n",
    "# Axis labels/limits, remove horizontal gridlines, etc\n",
    "plt.ylabel('Cost (2010$/bbl)', size=14)\n",
    "plt.xlabel('Quantity (Gb)', size=14)\n",
    "ax.set_xlim(left[0], right[-2])\n",
    "ax.set_ylim(bottom.min(), 120)\n",
    "ax.yaxis.grid(False)\n",
    "ax.xaxis.grid(False)\n",
    "\n",
    "#remove top and right spines (box lines around figure)\n",
    "sns.despine() \n",
    "\n",
    "#Add the custom legend \n",
    "plt.legend(handles=patch, loc=2, fontsize=12,\n",
    "          ncol=2)"
   ]
  }
 ],
 "metadata": {
  "kernelspec": {
   "display_name": "Python 2",
   "language": "python",
   "name": "python2"
  },
  "language_info": {
   "codemirror_mode": {
    "name": "ipython",
    "version": 2
   },
   "file_extension": ".py",
   "mimetype": "text/x-python",
   "name": "python",
   "nbconvert_exporter": "python",
   "pygments_lexer": "ipython2",
   "version": "2.7.11"
  }
 },
 "nbformat": 4,
 "nbformat_minor": 0
}
